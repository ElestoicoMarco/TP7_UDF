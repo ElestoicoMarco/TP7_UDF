{
 "cells": [
  {
   "cell_type": "code",
   "execution_count": 2,
   "id": "fb3a1950-d482-4976-b48c-95183826c9d3",
   "metadata": {
    "scrolled": true
   },
   "outputs": [
    {
     "ename": "SyntaxError",
     "evalue": "invalid syntax (2315198646.py, line 1)",
     "output_type": "error",
     "traceback": [
      "\u001b[1;36m  Cell \u001b[1;32mIn[2], line 1\u001b[1;36m\u001b[0m\n\u001b[1;33m    importar sqlite3\u001b[0m\n\u001b[1;37m             ^\u001b[0m\n\u001b[1;31mSyntaxError\u001b[0m\u001b[1;31m:\u001b[0m invalid syntax\n"
     ]
    }
   ],
   "source": [
    "importar sqlite3\n",
    "#ejercicio \n",
    "definir la funcion contar ocurrencia \n",
    "definicion contar_Ocurrencia\n",
    "def _init_(self):\n",
    "    self.contador = 0\n",
    "def step (self,value):\n",
    "    if value == \"rojo\"\n",
    "    self.contador += 1\n",
    "    def finalize(self):\n",
    "        return self.contador"
   ]
  },
  {
   "cell_type": "code",
   "execution_count": 4,
   "id": "75f3369a-4c63-4bde-890e-4eb7f98e7f13",
   "metadata": {
    "scrolled": true
   },
   "outputs": [
    {
     "ename": "NameError",
     "evalue": "name 'sqlite3' is not defined",
     "output_type": "error",
     "traceback": [
      "\u001b[1;31m---------------------------------------------------------------------------\u001b[0m",
      "\u001b[1;31mNameError\u001b[0m                                 Traceback (most recent call last)",
      "Cell \u001b[1;32mIn[4], line 2\u001b[0m\n\u001b[0;32m      1\u001b[0m \u001b[38;5;66;03m# conectar a la base de datos \u001b[39;00m\n\u001b[1;32m----> 2\u001b[0m conn \u001b[38;5;241m=\u001b[39m sqlite3\u001b[38;5;241m.\u001b[39mconnect (\u001b[38;5;124m\"\u001b[39m\u001b[38;5;124m:memory:\u001b[39m\u001b[38;5;124m\"\u001b[39m)\n",
      "\u001b[1;31mNameError\u001b[0m: name 'sqlite3' is not defined"
     ]
    }
   ],
   "source": [
    "# conectar a la base de datos \n",
    "conn = sqlite3.connect (\":memory:\") # usando memoria para este ejemplo \n"
   ]
  },
  {
   "cell_type": "code",
   "execution_count": 5,
   "id": "c8375dca-4763-4406-a106-891bcb768bc0",
   "metadata": {
    "scrolled": true
   },
   "outputs": [
    {
     "ename": "SyntaxError",
     "evalue": "invalid syntax. Perhaps you forgot a comma? (1950154211.py, line 2)",
     "output_type": "error",
     "traceback": [
      "\u001b[1;36m  Cell \u001b[1;32mIn[5], line 2\u001b[1;36m\u001b[0m\n\u001b[1;33m    conn.create_aggregate(\"cortar_ocurrencia\",1 contarocurrencias)\u001b[0m\n\u001b[1;37m                                              ^\u001b[0m\n\u001b[1;31mSyntaxError\u001b[0m\u001b[1;31m:\u001b[0m invalid syntax. Perhaps you forgot a comma?\n"
     ]
    }
   ],
   "source": [
    "# crear la ufd agregada\n",
    "conn.create_aggregate(\"cortar_ocurrencia\",1 contarocurrencias)"
   ]
  },
  {
   "cell_type": "code",
   "execution_count": 7,
   "id": "e25cab30-5f07-4fd7-9ee8-f084af4933ee",
   "metadata": {},
   "outputs": [
    {
     "ename": "SyntaxError",
     "evalue": "'(' was never closed (927179890.py, line 2)",
     "output_type": "error",
     "traceback": [
      "\u001b[1;36m  Cell \u001b[1;32mIn[7], line 2\u001b[1;36m\u001b[0m\n\u001b[1;33m    conn.execute(\"\"\u001b[0m\n\u001b[1;37m                ^\u001b[0m\n\u001b[1;31mSyntaxError\u001b[0m\u001b[1;31m:\u001b[0m '(' was never closed\n"
     ]
    }
   ],
   "source": [
    "# crear la tabla colores\n",
    "conn.execute(\"\"\n",
    "             create table colores( color tex)"
   ]
  },
  {
   "cell_type": "code",
   "execution_count": 8,
   "id": "d31d98e3-824b-4c67-aa2e-34903e560e2b",
   "metadata": {},
   "outputs": [
    {
     "ename": "SyntaxError",
     "evalue": "invalid character '´' (U+00B4) (412955019.py, line 2)",
     "output_type": "error",
     "traceback": [
      "\u001b[1;36m  Cell \u001b[1;32mIn[8], line 2\u001b[1;36m\u001b[0m\n\u001b[1;33m    colores = [(\"rojo\",) ,(´azul´),(´verde,´),(´rojo´,),(´azul´,)]\u001b[0m\n\u001b[1;37m                           ^\u001b[0m\n\u001b[1;31mSyntaxError\u001b[0m\u001b[1;31m:\u001b[0m invalid character '´' (U+00B4)\n"
     ]
    }
   ],
   "source": [
    "#insertar colores\n",
    "colores = [(\"rojo\",) ,(´azul´),(´verde,´),(´rojo´,),(´azul´,)]\n",
    "conn.executemany(´inserte into colores (color) values (?)´colores)"
   ]
  },
  {
   "cell_type": "code",
   "execution_count": 10,
   "id": "a30e137a-c8ac-44c6-8c45-eedd0e518144",
   "metadata": {},
   "outputs": [
    {
     "ename": "SyntaxError",
     "evalue": "invalid character '´' (U+00B4) (3964598713.py, line 1)",
     "output_type": "error",
     "traceback": [
      "\u001b[1;36m  Cell \u001b[1;32mIn[10], line 1\u001b[1;36m\u001b[0m\n\u001b[1;33m    cursor = conn.execute(´selec contar_ocurrencias(color) from colores´)\u001b[0m\n\u001b[1;37m                          ^\u001b[0m\n\u001b[1;31mSyntaxError\u001b[0m\u001b[1;31m:\u001b[0m invalid character '´' (U+00B4)\n"
     ]
    }
   ],
   "source": [
    "cursor = conn.execute(´selec contar_ocurrencias(color) from colores´)\n",
    "resultado = cursor.fetchone()\n",
    "print (F´el color \"rojo \" aparece en {resultado[0]}´)"
   ]
  },
  {
   "cell_type": "code",
   "execution_count": null,
   "id": "d17f199b-b9d0-4f6d-9ba0-1bfdb2f7b052",
   "metadata": {},
   "outputs": [],
   "source": []
  }
 ],
 "metadata": {
  "kernelspec": {
   "display_name": "Python 3 (ipykernel)",
   "language": "python",
   "name": "python3"
  },
  "language_info": {
   "codemirror_mode": {
    "name": "ipython",
    "version": 3
   },
   "file_extension": ".py",
   "mimetype": "text/x-python",
   "name": "python",
   "nbconvert_exporter": "python",
   "pygments_lexer": "ipython3",
   "version": "3.12.4"
  }
 },
 "nbformat": 4,
 "nbformat_minor": 5
}
